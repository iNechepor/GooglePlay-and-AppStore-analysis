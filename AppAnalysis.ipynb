{
 "cells": [
  {
   "cell_type": "markdown",
   "metadata": {},
   "source": [
    "## DataQuest Guided project\n",
    "---\n",
    "\n",
    "# GooglePlay and AppStore applications analisys. \n",
    "\n",
    "> this project is my first step in data analisys\n",
    "\n",
    "**Remarks**\n",
    "\n",
    "As it stated in title this is guided project, meaning to say that I follow advices rather than do my own research. Anyways there are some of my own-designed methods are implemented which I hope won't be judged too strictly.\n",
    "\n",
    "**Legend**\n",
    "\n",
    "I am working as data analist in GameDev company. The company develops free Apps and earn muney from adds. So, basicaly rewenue of company fully depends on amount of users. Company targeting on english-speaking users.\n",
    "\n",
    "**Goal**\n",
    "\n",
    "To analyze App Store and Google Play data to help developers understand what type of apps are likely to attract more users and consequently increase companies revenue.\n",
    "\n",
    "**Tools**\n",
    "1. Dataset - slice of data representing 10000 Android apps from Google Play;\n",
    "2. Dataset - slice of data representing 7000 iOS apps from the App Store;"
   ]
  },
  {
   "cell_type": "markdown",
   "metadata": {},
   "source": [
    "# Step 1. Data import and initial assesment\n",
    " * code below designed to open dataset in form allowing us to make firss assesment and arrange a workflow;"
   ]
  },
  {
   "cell_type": "code",
   "execution_count": 27,
   "metadata": {},
   "outputs": [],
   "source": [
    "from csv import reader\n",
    "\n",
    "open_AppStore = open('AppleStore.csv', encoding='utf-8', newline='')\n",
    "read_AppStore = reader(open_AppStore)\n",
    "AppStore_Dataset = list(read_AppStore)\n",
    "AppStore_header = AppStore_Dataset[0]\n",
    "AppStore_data = AppStore_Dataset[1:]\n",
    "\n",
    "open_GooglePlay = open('googleplaystore.csv', encoding='utf-8', newline='')\n",
    "read_GooglePlay = reader(open_GooglePlay)\n",
    "GooglePlay_Dataset = list(read_GooglePlay)\n",
    "GooglePlay_header = GooglePlay_Dataset[0]\n",
    "GooglePlay_data = GooglePlay_Dataset[1:]\n",
    "\n",
    "def explore_data(dataset, start, end, rows_and_columns = False):\n",
    "    slice_dataset = dataset[start:end]\n",
    "    for row in slice_dataset:\n",
    "        print(row)\n",
    "        print('\\n')\n",
    "    if rows_and_columns:\n",
    "        print('Number of rows:', len(dataset))\n",
    "        print('Number of columns:', len(dataset[0]))"
   ]
  },
  {
   "cell_type": "markdown",
   "metadata": {},
   "source": [
    " * import `AppStore,csv` and assess which data we might need for our research"
   ]
  },
  {
   "cell_type": "code",
   "execution_count": 28,
   "metadata": {},
   "outputs": [
    {
     "name": "stdout",
     "output_type": "stream",
     "text": [
      "['id', 'track_name', 'size_bytes', 'currency', 'price', 'rating_count_tot', 'rating_count_ver', 'user_rating', 'user_rating_ver', 'ver', 'cont_rating', 'prime_genre', 'sup_devices.num', 'ipadSc_urls.num', 'lang.num', 'vpp_lic']\n",
      "['284882215', 'Facebook', '389879808', 'USD', '0.0', '2974676', '212', '3.5', '3.5', '95.0', '4+', 'Social Networking', '37', '1', '29', '1']\n",
      "\n",
      "\n",
      "['389801252', 'Instagram', '113954816', 'USD', '0.0', '2161558', '1289', '4.5', '4.0', '10.23', '12+', 'Photo & Video', '37', '0', '29', '1']\n",
      "\n",
      "\n",
      "['529479190', 'Clash of Clans', '116476928', 'USD', '0.0', '2130805', '579', '4.5', '4.5', '9.24.12', '9+', 'Games', '38', '5', '18', '1']\n",
      "\n",
      "\n",
      "Number of rows: 7197\n",
      "Number of columns: 16\n"
     ]
    }
   ],
   "source": [
    "print(AppStore_header)\n",
    "explore_data(AppStore_data, 0, 3, True)"
   ]
  },
  {
   "cell_type": "markdown",
   "metadata": {},
   "source": [
    "* `AppStore.csv` is obtained from [keegle](https://www.kaggle.com/datasets/ramamet4/app-store-apple-data-set-10k-apps). Check for column data explanation. For our research we can use `id`, `track_name`, `currency`, `price`, `rating_count_tot`,`user_rating`, `cont_rating` and `prime_genre`  columns.\n",
    "---\n",
    "* Performing the same steps for `googleplaystore.csv`:"
   ]
  },
  {
   "cell_type": "code",
   "execution_count": 29,
   "metadata": {},
   "outputs": [
    {
     "name": "stdout",
     "output_type": "stream",
     "text": [
      "['App', 'Category', 'Rating', 'Reviews', 'Size', 'Installs', 'Type', 'Price', 'Content Rating', 'Genres', 'Last Updated', 'Current Ver', 'Android Ver']\n",
      "['Photo Editor & Candy Camera & Grid & ScrapBook', 'ART_AND_DESIGN', '4.1', '159', '19M', '10,000+', 'Free', '0', 'Everyone', 'Art & Design', 'January 7, 2018', '1.0.0', '4.0.3 and up']\n",
      "\n",
      "\n",
      "['Coloring book moana', 'ART_AND_DESIGN', '3.9', '967', '14M', '500,000+', 'Free', '0', 'Everyone', 'Art & Design;Pretend Play', 'January 15, 2018', '2.0.0', '4.0.3 and up']\n",
      "\n",
      "\n",
      "['U Launcher Lite – FREE Live Cool Themes, Hide Apps', 'ART_AND_DESIGN', '4.7', '87510', '8.7M', '5,000,000+', 'Free', '0', 'Everyone', 'Art & Design', 'August 1, 2018', '1.2.4', '4.0.3 and up']\n",
      "\n",
      "\n",
      "Number of rows: 10841\n",
      "Number of columns: 13\n"
     ]
    }
   ],
   "source": [
    "print(GooglePlay_header)\n",
    "explore_data(GooglePlay_data, 0, 3, True)"
   ]
  },
  {
   "cell_type": "markdown",
   "metadata": {},
   "source": [
    "* for our research we can use `app`, `category`, `rating`, `Installs`, `Type`, `Price`, `Content Rating` and `Genres` column data. "
   ]
  },
  {
   "cell_type": "markdown",
   "metadata": {},
   "source": [
    "# Step 2. Data checking and cleaning"
   ]
  },
  {
   "cell_type": "markdown",
   "metadata": {},
   "source": [
    "1. Lets create function which will check if data is complete\n",
    "\n",
    "* idea behind that function is that it loops trough the list and search for incomplete rows and missing data;\n",
    "* function returns cleared dataset. This is first stage of filtering;\n",
    "\n",
    "*might look a bit explicit*\n"
   ]
  },
  {
   "cell_type": "code",
   "execution_count": 30,
   "metadata": {
    "vscode": {
     "languageId": "markdown"
    }
   },
   "outputs": [],
   "source": [
    "def data_check(dataset, header):\n",
    "    counter = 0\n",
    "    i = -1\n",
    "    for row in dataset:\n",
    "        i += 1\n",
    "        if len(row) != len(header):\n",
    "            print('Row is incomplete for ' + row[0] + ' and was deleted')\n",
    "            print(row)\n",
    "            dataset.pop(i)\n",
    "            counter += 1\n",
    "        for element in row:\n",
    "            if element == '' or None:\n",
    "                print(header[row.index('')] + ' is missing for ' + row[0])\n",
    "                print(row)\n",
    "                counter += 1\n",
    "    if counter == 0:\n",
    "        print('Dataset complete!')\n",
    "    return dataset"
   ]
  },
  {
   "cell_type": "markdown",
   "metadata": {},
   "source": [
    "Perform data check for both datasets:"
   ]
  },
  {
   "cell_type": "code",
   "execution_count": 31,
   "metadata": {},
   "outputs": [
    {
     "name": "stdout",
     "output_type": "stream",
     "text": [
      "Dataset complete!\n"
     ]
    }
   ],
   "source": [
    "AppStore_data = data_check(AppStore_data, AppStore_header) #Appstore data"
   ]
  },
  {
   "cell_type": "code",
   "execution_count": 32,
   "metadata": {},
   "outputs": [
    {
     "name": "stdout",
     "output_type": "stream",
     "text": [
      "Current Ver is missing for Market Update Helper\n",
      "['Market Update Helper', 'LIBRARIES_AND_DEMO', '4.1', '20145', '11k', '1,000,000+', 'Free', '0', 'Everyone', 'Libraries & Demo', 'February 12, 2013', '', '1.5 and up']\n",
      "Row is incomplete for Life Made WI-Fi Touchscreen Photo Frame and was deleted\n",
      "['Life Made WI-Fi Touchscreen Photo Frame', '1.9', '19', '3.0M', '1,000+', 'Free', '0', 'Everyone', '', 'February 11, 2018', '1.0.19', '4.0 and up']\n",
      "Content Rating is missing for Life Made WI-Fi Touchscreen Photo Frame\n",
      "['Life Made WI-Fi Touchscreen Photo Frame', '1.9', '19', '3.0M', '1,000+', 'Free', '0', 'Everyone', '', 'February 11, 2018', '1.0.19', '4.0 and up']\n"
     ]
    }
   ],
   "source": [
    "GooglePlay_data = data_check(GooglePlay_data, GooglePlay_header) #GooglePlay data"
   ]
  },
  {
   "cell_type": "markdown",
   "metadata": {},
   "source": [
    "To test if dataset was actually modified lets check if length of dataset changed. Remember that before GooglePlay Store dataset contained 10841 rows of data."
   ]
  },
  {
   "cell_type": "code",
   "execution_count": 33,
   "metadata": {},
   "outputs": [
    {
     "name": "stdout",
     "output_type": "stream",
     "text": [
      "10840\n"
     ]
    }
   ],
   "source": [
    "print(len(GooglePlay_data))"
   ]
  },
  {
   "cell_type": "markdown",
   "metadata": {},
   "source": [
    "AppStore data was complete, when GooglePlay data was modefied. **Current version** missing is not critical for us, as this is data is not of our concern.\n",
    "\n",
    "2. Next step of data cleaning is to check for duplicate data. "
   ]
  },
  {
   "cell_type": "markdown",
   "metadata": {},
   "source": [
    "I will start from checking our intial dataset for duplicate entries and will decide aftewards the secuence of steps. Might be wise to clean data first and then sort out duplicate entries. Might be vice versa. Probably it is matter of tastes. Let's start, as we say  `menshe slov, bolshe dela`"
   ]
  },
  {
   "cell_type": "code",
   "execution_count": 34,
   "metadata": {},
   "outputs": [],
   "source": [
    "def duplicate_check(dataset):\n",
    "    unique_names = []\n",
    "    duplicates = []\n",
    "    duplicate_ones = {}\n",
    "    for app in dataset:\n",
    "        name = app[0]\n",
    "        if name not in unique_names:\n",
    "            unique_names.append(name)\n",
    "        else:\n",
    "            duplicates.append(app)\n",
    "            duplicate_ones[name] = 'badass'\n",
    "    print('number of unique apps in dataset: ' + str(len(unique_names)))\n",
    "    print('number of duplicate apps in dataset: ' + str(len(duplicates)))\n",
    "    if len(duplicates) > 0:\n",
    "        print('\\n')\n",
    "        print(len(duplicate_ones)) "
   ]
  },
  {
   "cell_type": "code",
   "execution_count": 35,
   "metadata": {},
   "outputs": [
    {
     "name": "stdout",
     "output_type": "stream",
     "text": [
      "number of unique apps in dataset: 7197\n",
      "number of duplicate apps in dataset: 0\n"
     ]
    }
   ],
   "source": [
    "duplicate_check(AppStore_data)"
   ]
  },
  {
   "cell_type": "code",
   "execution_count": 36,
   "metadata": {},
   "outputs": [
    {
     "name": "stdout",
     "output_type": "stream",
     "text": [
      "number of unique apps in dataset: 9659\n",
      "number of duplicate apps in dataset: 1181\n",
      "\n",
      "\n",
      "798\n"
     ]
    }
   ],
   "source": [
    "duplicate_check(GooglePlay_data)"
   ]
  },
  {
   "cell_type": "markdown",
   "metadata": {},
   "source": [
    "This pretty exagerrated check shows us that AppStore data is totaly fine, when GooglePlay store data has 1181 duplicate entries. As I am using VScode and I am allowed to use all tools in my hand. So, I checked dataset for Google and noticed that some cases of double entries are caused by `free` and `paid` status of app. That means that probably before fighting with windmeals - better to clean data and sort out duplicates later.\n",
    "\n",
    "Lets create new dataset of free apps:\n",
    "* For AppStore data: if column[4] == 0.0 is true, than we leave app in dataset, otherwise delete;\n",
    "* For GooglePlay data: if column [6] == 'free' is true, than we leave app in dataset, otherwise delete;"
   ]
  },
  {
   "cell_type": "code",
   "execution_count": 37,
   "metadata": {},
   "outputs": [
    {
     "name": "stdout",
     "output_type": "stream",
     "text": [
      "4056\n"
     ]
    }
   ],
   "source": [
    "ios_free = []\n",
    "for row in AppStore_data:\n",
    "    if row[4] == '0.0':\n",
    "        ios_free.append(row)\n",
    "print (len(ios_free))"
   ]
  },
  {
   "cell_type": "code",
   "execution_count": 38,
   "metadata": {},
   "outputs": [
    {
     "name": "stdout",
     "output_type": "stream",
     "text": [
      "10039\n"
     ]
    }
   ],
   "source": [
    "android_free = []\n",
    "for row in GooglePlay_data:\n",
    "    if row[6] == 'Free':\n",
    "        android_free.append(row)\n",
    "print(len(android_free))"
   ]
  },
  {
   "cell_type": "markdown",
   "metadata": {},
   "source": [
    "As we are targeting in english speaking audience who prefer free apps - we will clean data taking that into account. To find out non-english apps is a bit challenging. Here I am out of knowledge, and had to seek for advice. Advice states:\n",
    "\n",
    "> One way to go about this is to remove each app whose name contains a symbol that is not commonly used in English text — English text usually includes letters from the English alphabet, numbers composed of digits from 0 to 9, punctuation marks (., !, ?, ;, etc.), and other symbols (+, *, /, etc.).\n",
    "\n",
    "> All these characters that are specific to English texts are encoded using the ASCII standard. Each ASCII character has a corresponding number between 0 and 127 associated with it, and we can take advantage of that to build a function that checks an app name and tells us whether it contains non-ASCII characters.\n",
    "\n",
    "> Some app's names consist not only from characters but also emojis and prefixes, we need to find way to leave those apps in for our analysis. One way to sort this issue is to make allowance for those characters outside abovementioned range - 127.\n",
    "\n",
    "Having abovementiond in mind:"
   ]
  },
  {
   "cell_type": "code",
   "execution_count": 39,
   "metadata": {},
   "outputs": [
    {
     "name": "stdout",
     "output_type": "stream",
     "text": [
      "3222\n"
     ]
    }
   ],
   "source": [
    "ios_free_eng = []\n",
    "for row in ios_free:\n",
    "    non_ASCII = 0\n",
    "    for character in row[1]:\n",
    "        if ord(character) > 127:\n",
    "            non_ASCII += 1\n",
    "    if non_ASCII < 4:\n",
    "        ios_free_eng.append(row)\n",
    "print(len(ios_free_eng))\n",
    "         \n",
    "    "
   ]
  },
  {
   "cell_type": "code",
   "execution_count": 40,
   "metadata": {},
   "outputs": [
    {
     "name": "stdout",
     "output_type": "stream",
     "text": [
      "9998\n"
     ]
    }
   ],
   "source": [
    "android_free_eng = []\n",
    "for row in android_free:\n",
    "    non_ASCII = 0\n",
    "    for character in row[0]:\n",
    "        if ord(character) > 127:\n",
    "            non_ASCII += 1\n",
    "    if non_ASCII < 4:\n",
    "        android_free_eng.append(row)\n",
    "print(len(android_free_eng))\n",
    "         \n",
    "    "
   ]
  },
  {
   "cell_type": "markdown",
   "metadata": {},
   "source": [
    "At this point I am ready to check again how many duplicate entries are in our new dataset for android apps. Before there were 1181 duplicate entries."
   ]
  },
  {
   "cell_type": "code",
   "execution_count": 41,
   "metadata": {},
   "outputs": [
    {
     "name": "stdout",
     "output_type": "stream",
     "text": [
      "number of unique apps in dataset: 8863\n",
      "number of duplicate apps in dataset: 1135\n",
      "\n",
      "\n",
      "756\n"
     ]
    }
   ],
   "source": [
    "duplicate_check(android_free_eng)"
   ]
  },
  {
   "cell_type": "markdown",
   "metadata": {},
   "source": [
    "Unfortunately there are still a lot. We got 1135 duplicate entries with 756 unique names of those. To make a final cleaning we will create a dictionary and invent criterion to sort which of duplicates we will keep for analisys. As I am using VScode IDE, I will investigate and report to you findings in next cell. "
   ]
  },
  {
   "cell_type": "markdown",
   "metadata": {},
   "source": [
    "Hey there. After close look on data in duplicate entries I found out that the only difference is number of rewievs. I don't know what is the algorythm of that segregation. Might be ерфе it devideы reviews by geography, might be that it does by time of the day. The only thing which is clear is that the more rewiews the more valuable and concious data inhereted in Rating. I have my doubts about this approach, cause we targeting on englishspeaking audience. For example Instagram can be used in local language, and if duplicate app data segrigated by geography, than we take into account irrelevant data, cause I can assume, that there are more asian people using this app, as there are simply more people who lives in Asia. But this can't be checked in scope of this research and I will keep it simple. Let's write code to create new dataset which will be last step in datacleaning - will remove duplicates from android apps data."
   ]
  },
  {
   "cell_type": "code",
   "execution_count": 42,
   "metadata": {},
   "outputs": [
    {
     "name": "stdout",
     "output_type": "stream",
     "text": [
      "8863\n"
     ]
    }
   ],
   "source": [
    "revievs_max = {}\n",
    "for app in android_free_eng:\n",
    "    name = app[0]\n",
    "    n_reviews = float(app[3])\n",
    "    if name not in revievs_max:\n",
    "        revievs_max[name] = n_reviews\n",
    "    elif revievs_max[name] > n_reviews:\n",
    "        revievs_max[name] = n_reviews\n",
    "print(len(revievs_max))"
   ]
  },
  {
   "cell_type": "markdown",
   "metadata": {},
   "source": [
    "8863 is number of unique apps in dictionary. Number is equal to one we obtained before, means that filtration went well.\n",
    "\n",
    "At this poin we ready to create final dataset for GooglePlay. I intend to use created dictionary with max_reviev number to fill in new list lf lists by rerieving data based on apps name and review number."
   ]
  },
  {
   "cell_type": "code",
   "execution_count": 43,
   "metadata": {},
   "outputs": [
    {
     "name": "stdout",
     "output_type": "stream",
     "text": [
      "8863\n"
     ]
    }
   ],
   "source": [
    "android_final = []\n",
    "already_added = []\n",
    "for app in android_free_eng:\n",
    "    name = app[0]\n",
    "    n_reviews = float(app[3])\n",
    "    if n_reviews == revievs_max[name] and name not in already_added:\n",
    "        android_final.append(app)\n",
    "        already_added.append(name)\n",
    "print(len(android_final))"
   ]
  },
  {
   "cell_type": "markdown",
   "metadata": {},
   "source": [
    "Congratulations! We finaly end up having clean datasets `android_final` and `ios_free_eng`"
   ]
  },
  {
   "cell_type": "markdown",
   "metadata": {},
   "source": [
    "# Step 3. Research data analysis\n",
    "\n",
    "At this point we ready to start data analysis, but before some explanations. Our company's workflow can be described as follows:\n",
    "\n",
    "1. Build a minimal Android version of the app, and add it to Google Play;\n",
    "2. If the app has a good response from users, we develop it further;\n",
    "3. If the app is profitable after six month, we build an IOS version of the app  and add it to the App Store.\n",
    "\n",
    "Before building up a minimall Android version we have to find out which app genre is most popular. For that goal we will analise GooglePlay dataset column 9 `genres` and 1 `category`; for AppStore dataset column 11 `prime genres`.\n",
    "\n",
    "For that purpose we will write function which will return app genres and percentage of occurance in descending order."
   ]
  },
  {
   "cell_type": "code",
   "execution_count": 54,
   "metadata": {},
   "outputs": [],
   "source": [
    "def freq_table(dataset, index):\n",
    "    frequency_table = {}\n",
    "    number_of_apps = len(dataset)\n",
    "    for app in dataset:\n",
    "        genre = app[index]\n",
    "        if genre not in frequency_table:\n",
    "            frequency_table[genre] = 1\n",
    "        else:\n",
    "            frequency_table[genre] += 1\n",
    "    for key in frequency_table:\n",
    "        frequency_table[key] = (frequency_table[key]/number_of_apps)*100\n",
    "    return frequency_table\n",
    "\n",
    "def display_table(dataset, index):\n",
    "    table = freq_table(dataset, index)\n",
    "    table_display = []\n",
    "    for key in table:\n",
    "        key_val_as_tuple = (table[key], key)\n",
    "        table_display.append(key_val_as_tuple)\n",
    "\n",
    "    table_sorted = sorted(table_display, reverse = True)\n",
    "    for entry in table_sorted:\n",
    "        print(entry[1], ':', entry[0])"
   ]
  },
  {
   "cell_type": "markdown",
   "metadata": {},
   "source": [
    "Lets strart with AppStore dataset:"
   ]
  },
  {
   "cell_type": "code",
   "execution_count": 55,
   "metadata": {},
   "outputs": [
    {
     "name": "stdout",
     "output_type": "stream",
     "text": [
      "Games : 58.16263190564867\n",
      "Entertainment : 7.883302296710118\n",
      "Photo & Video : 4.9658597144630665\n",
      "Education : 3.662321539416512\n",
      "Social Networking : 3.2898820608317814\n",
      "Shopping : 2.60707635009311\n",
      "Utilities : 2.5139664804469275\n",
      "Sports : 2.1415270018621975\n",
      "Music : 2.0484171322160147\n",
      "Health & Fitness : 2.0173805090006205\n",
      "Productivity : 1.7380509000620732\n",
      "Lifestyle : 1.5828677839851024\n",
      "News : 1.3345747982619491\n",
      "Travel : 1.2414649286157666\n",
      "Finance : 1.1173184357541899\n",
      "Weather : 0.8690254500310366\n",
      "Food & Drink : 0.8069522036002483\n",
      "Reference : 0.5586592178770949\n",
      "Business : 0.5276225946617008\n",
      "Book : 0.4345127250155183\n",
      "Navigation : 0.186219739292365\n",
      "Medical : 0.186219739292365\n",
      "Catalogs : 0.12414649286157665\n"
     ]
    }
   ],
   "source": [
    "display_table(ios_free_eng, 11)"
   ]
  },
  {
   "cell_type": "markdown",
   "metadata": {},
   "source": [
    "The most popular genre is `games` with 58% from total. The next is `entertainment` with just 7%. `entertainment` apps and `games` are of the same nature, people use those for fun and probably not in practical purposes. In my oppinion amount of apps in genre is not so reliable marker for our end goal. But for a moment we will kepp it as it is in guide for project."
   ]
  },
  {
   "cell_type": "code",
   "execution_count": 56,
   "metadata": {},
   "outputs": [
    {
     "name": "stdout",
     "output_type": "stream",
     "text": [
      "FAMILY : 18.774681259167323\n",
      "GAME : 9.635563578923614\n",
      "TOOLS : 8.450863138892023\n",
      "BUSINESS : 4.580841701455489\n",
      "LIFESTYLE : 3.9038700214374367\n",
      "PRODUCTIVITY : 3.8925871601038025\n",
      "FINANCE : 3.7007785174320205\n",
      "MEDICAL : 3.542818458761142\n",
      "SPORTS : 3.4187069840911652\n",
      "PERSONALIZATION : 3.317161232088458\n",
      "COMMUNICATION : 3.2494640640866526\n",
      "HEALTH_AND_FITNESS : 3.068938282748505\n",
      "PHOTOGRAPHY : 2.944826808078529\n",
      "NEWS_AND_MAGAZINES : 2.798149610741284\n",
      "SOCIAL : 2.6627552747376737\n",
      "TRAVEL_AND_LOCAL : 2.335552296062281\n",
      "SHOPPING : 2.245289405393208\n",
      "BOOKS_AND_REFERENCE : 2.1437436533904997\n",
      "DATING : 1.8616721200496444\n",
      "VIDEO_PLAYERS : 1.7826920907142052\n",
      "MAPS_AND_NAVIGATION : 1.399074805370642\n",
      "EDUCATION : 1.2523976080333974\n",
      "FOOD_AND_DRINK : 1.241114746699763\n",
      "ENTERTAINMENT : 1.0380232426943474\n",
      "LIBRARIES_AND_DEMO : 0.9364774906916393\n",
      "AUTO_AND_VEHICLES : 0.9251946293580051\n",
      "HOUSE_AND_HOME : 0.8349317386889316\n",
      "WEATHER : 0.8010831546880289\n",
      "EVENTS : 0.7108202640189552\n",
      "ART_AND_DESIGN : 0.6769716800180525\n",
      "PARENTING : 0.6544059573507841\n",
      "COMICS : 0.6205573733498815\n",
      "BEAUTY : 0.5979916506826132\n"
     ]
    }
   ],
   "source": [
    "display_table(android_final, 1)"
   ]
  },
  {
   "cell_type": "markdown",
   "metadata": {},
   "source": [
    "In GooglePlay store dataset apps are more evenly spreaded in `category`. But numer of those categories is much bigger. Also remarkable that pattern is different from the one in AppStore dataset. Categories `tools` and `busines` have approximately the same percentage as `games`. Hipotesis that genres and categories is bad foundation for judjement is getting more reasonable.\n",
    "\n",
    "Lets move to last column to analise in this part of research."
   ]
  },
  {
   "cell_type": "code",
   "execution_count": 57,
   "metadata": {},
   "outputs": [
    {
     "name": "stdout",
     "output_type": "stream",
     "text": [
      "Tools : 8.43958027755839\n",
      "Entertainment : 6.070179397495204\n",
      "Education : 5.348076272142616\n",
      "Business : 4.580841701455489\n",
      "Productivity : 3.8925871601038025\n",
      "Lifestyle : 3.8925871601038025\n",
      "Finance : 3.7007785174320205\n",
      "Medical : 3.542818458761142\n",
      "Sports : 3.463838429425702\n",
      "Personalization : 3.317161232088458\n",
      "Communication : 3.2494640640866526\n",
      "Action : 3.102786866749408\n",
      "Health & Fitness : 3.068938282748505\n",
      "Photography : 2.944826808078529\n",
      "News & Magazines : 2.798149610741284\n",
      "Social : 2.6627552747376737\n",
      "Travel & Local : 2.324269434728647\n",
      "Shopping : 2.245289405393208\n",
      "Books & Reference : 2.1437436533904997\n",
      "Simulation : 2.042197901387792\n",
      "Dating : 1.8616721200496444\n",
      "Arcade : 1.8616721200496444\n",
      "Video Players & Editors : 1.7826920907142052\n",
      "Casual : 1.7488435067133026\n",
      "Maps & Navigation : 1.399074805370642\n",
      "Food & Drink : 1.241114746699763\n",
      "Puzzle : 1.128286133363421\n",
      "Racing : 0.9928917973598104\n",
      "Role Playing : 0.9364774906916393\n",
      "Libraries & Demo : 0.9364774906916393\n",
      "Auto & Vehicles : 0.9251946293580051\n",
      "Strategy : 0.9026289066907368\n",
      "House & Home : 0.8349317386889316\n",
      "Weather : 0.8010831546880289\n",
      "Events : 0.7108202640189552\n",
      "Adventure : 0.6769716800180525\n",
      "Comics : 0.6092745120162473\n",
      "Beauty : 0.5979916506826132\n",
      "Art & Design : 0.5979916506826132\n",
      "Parenting : 0.4964458986799052\n",
      "Card : 0.4400315920117342\n",
      "Casino : 0.42874873067809993\n",
      "Trivia : 0.4174658693444658\n",
      "Educational;Education : 0.3949001466771973\n",
      "Educational : 0.37233442400992894\n",
      "Board : 0.37233442400992894\n",
      "Education;Education : 0.33848584000902626\n",
      "Word : 0.25950581067358686\n",
      "Casual;Pretend Play : 0.2369400880063184\n",
      "Music : 0.20309150400541578\n",
      "Racing;Action & Adventure : 0.16924292000451313\n",
      "Puzzle;Brain Games : 0.16924292000451313\n",
      "Entertainment;Music & Video : 0.16924292000451313\n",
      "Casual;Brain Games : 0.1353943360036105\n",
      "Casual;Action & Adventure : 0.1353943360036105\n",
      "Arcade;Action & Adventure : 0.1241114746699763\n",
      "Action;Action & Adventure : 0.10154575200270789\n",
      "Educational;Pretend Play : 0.09026289066907367\n",
      "Board;Brain Games : 0.09026289066907367\n",
      "Simulation;Action & Adventure : 0.07898002933543948\n",
      "Parenting;Education : 0.07898002933543948\n",
      "Entertainment;Brain Games : 0.07898002933543948\n",
      "Parenting;Music & Video : 0.06769716800180525\n",
      "Educational;Brain Games : 0.06769716800180525\n",
      "Casual;Creativity : 0.06769716800180525\n",
      "Art & Design;Creativity : 0.06769716800180525\n",
      "Education;Pretend Play : 0.05641430666817105\n",
      "Role Playing;Pretend Play : 0.045131445334536835\n",
      "Education;Creativity : 0.045131445334536835\n",
      "Role Playing;Action & Adventure : 0.033848584000902626\n",
      "Puzzle;Action & Adventure : 0.033848584000902626\n",
      "Entertainment;Creativity : 0.033848584000902626\n",
      "Entertainment;Action & Adventure : 0.033848584000902626\n",
      "Educational;Creativity : 0.033848584000902626\n",
      "Educational;Action & Adventure : 0.033848584000902626\n",
      "Education;Music & Video : 0.033848584000902626\n",
      "Education;Brain Games : 0.033848584000902626\n",
      "Education;Action & Adventure : 0.033848584000902626\n",
      "Adventure;Action & Adventure : 0.033848584000902626\n",
      "Video Players & Editors;Music & Video : 0.022565722667268417\n",
      "Sports;Action & Adventure : 0.022565722667268417\n",
      "Simulation;Pretend Play : 0.022565722667268417\n",
      "Puzzle;Creativity : 0.022565722667268417\n",
      "Music;Music & Video : 0.022565722667268417\n",
      "Entertainment;Pretend Play : 0.022565722667268417\n",
      "Casual;Education : 0.022565722667268417\n",
      "Board;Action & Adventure : 0.022565722667268417\n",
      "Trivia;Education : 0.011282861333634209\n",
      "Travel & Local;Action & Adventure : 0.011282861333634209\n",
      "Tools;Education : 0.011282861333634209\n",
      "Strategy;Education : 0.011282861333634209\n",
      "Strategy;Creativity : 0.011282861333634209\n",
      "Strategy;Action & Adventure : 0.011282861333634209\n",
      "Simulation;Education : 0.011282861333634209\n",
      "Role Playing;Brain Games : 0.011282861333634209\n",
      "Racing;Pretend Play : 0.011282861333634209\n",
      "Puzzle;Education : 0.011282861333634209\n",
      "Parenting;Brain Games : 0.011282861333634209\n",
      "Music & Audio;Music & Video : 0.011282861333634209\n",
      "Lifestyle;Pretend Play : 0.011282861333634209\n",
      "Lifestyle;Education : 0.011282861333634209\n",
      "Health & Fitness;Education : 0.011282861333634209\n",
      "Health & Fitness;Action & Adventure : 0.011282861333634209\n",
      "Entertainment;Education : 0.011282861333634209\n",
      "Communication;Creativity : 0.011282861333634209\n",
      "Comics;Creativity : 0.011282861333634209\n",
      "Casual;Music & Video : 0.011282861333634209\n",
      "Card;Brain Games : 0.011282861333634209\n",
      "Card;Action & Adventure : 0.011282861333634209\n",
      "Books & Reference;Education : 0.011282861333634209\n",
      "Art & Design;Pretend Play : 0.011282861333634209\n",
      "Art & Design;Action & Adventure : 0.011282861333634209\n",
      "Arcade;Pretend Play : 0.011282861333634209\n",
      "Adventure;Education : 0.011282861333634209\n"
     ]
    }
   ],
   "source": [
    "display_table(android_final, 9)"
   ]
  },
  {
   "cell_type": "markdown",
   "metadata": {},
   "source": [
    "The most frequently encountered genre in GooglePlay dataset is `Tools`. It is absolutly opposit genre to one we saw in AppStore. As for now it seems that IOs developers more focused on gaming apps, while android developers more about usefull apps. But again, as I see, it is impracticall approach to analise genres to find out which app is likely to attract more users. This might be intermediate step to move further and find out how many users each genre attracts.\n",
    "\n",
    "Project's guide adviced a bit different idea. Basicaly it is the same, but insted of total amount of users it suggested to count average amount of users per app in genre. Probably this is more representative approach. It provides clear view on how app genre affects amount of users.\n",
    "\n",
    "We can easily obtain required data (amount of users) for GooglePlay data set, it is contained in `installs` column. For AppStore dataset we can use `rating_count_tot` as proxy to find out amount of users. It is not accurate figure, but as we use it in scope of one dataset to compare data within AppStore - we can presume that percentage of users tend to leave app rating is the same for every app in data set. This approach will anihilate error within dataset, but we can not compare figures between IOs and android apps. Comparison posible only between parts and percentages.\n",
    "\n",
    "Let's start with GooglePlay data set."
   ]
  },
  {
   "cell_type": "code",
   "execution_count": 90,
   "metadata": {},
   "outputs": [],
   "source": [
    "def average_users_per_genre(dataset, index_genre, index_users):\n",
    "    frequency_table = {}\n",
    "    for app in dataset:\n",
    "        genre = app[index_genre]\n",
    "        if genre not in frequency_table:\n",
    "            frequency_table[genre] = 1\n",
    "        else:\n",
    "            frequency_table[genre] += 1   \n",
    "    users_per_genre = {}\n",
    "    for key in frequency_table:\n",
    "        for app in dataset:\n",
    "            users_num = app[index_users]\n",
    "            users_num = users_num.replace(',', '')\n",
    "            users_num = users_num.replace('+', '')\n",
    "            if app[index_genre] == key and app[index_genre] not in users_per_genre:\n",
    "                users_per_genre[key] = float(users_num)\n",
    "            elif app[index_genre] == key and app[index_genre] in users_per_genre:\n",
    "                users_per_genre[key] += float(users_num)\n",
    "    average_users_per_genre = []\n",
    "    for key in frequency_table:\n",
    "        average_users_per_genre.append([round(float(users_per_genre[key]/frequency_table[key])), key])\n",
    "    sorted_average_users_per_genre = sorted(average_users_per_genre, reverse = True)\n",
    "    for pair in sorted_average_users_per_genre:\n",
    "        print (pair[1], ':', pair[0])"
   ]
  },
  {
   "cell_type": "markdown",
   "metadata": {},
   "source": [
    "Code above will represent genres with correspondig amount of users. Let's start with AppStore dataset:"
   ]
  },
  {
   "cell_type": "code",
   "execution_count": 91,
   "metadata": {},
   "outputs": [
    {
     "name": "stdout",
     "output_type": "stream",
     "text": [
      "Navigation : 86090\n",
      "Reference : 74942\n",
      "Social Networking : 71548\n",
      "Music : 57327\n",
      "Weather : 52280\n",
      "Book : 39758\n",
      "Food & Drink : 33334\n",
      "Finance : 31468\n",
      "Photo & Video : 28442\n",
      "Travel : 28244\n",
      "Shopping : 26920\n",
      "Health & Fitness : 23298\n",
      "Sports : 23009\n",
      "Games : 22789\n",
      "News : 21248\n",
      "Productivity : 21028\n",
      "Utilities : 18684\n",
      "Lifestyle : 16486\n",
      "Entertainment : 14030\n",
      "Business : 7491\n",
      "Education : 7004\n",
      "Catalogs : 4004\n",
      "Medical : 612\n"
     ]
    }
   ],
   "source": [
    "average_users_per_genre(ios_free_eng, 11, 5)"
   ]
  },
  {
   "cell_type": "markdown",
   "metadata": {},
   "source": [
    "First assesment shows that apps with largest amount of apps are the onec easy to develop and probably market already filed with other mighty companies. First five is: Navigation, Reference, Social Networking, Music, Weather. For our company the success recepie is to find genre with large user amount, market not floded with similar apps, and there is no need for other infrostructure for app to work (we are not going to employ large amount of finantial analitics to make Finance app). I would recomend to develop `Photo&Video`, `Food&Drinks`, `Book` apps for AppStore market. Those apps are in top 10 averege users list and there are not so much of those on market. The only exception is Photo and Video, those apps are popular and there is no lack on market, but those seem to be on boarder with Social Network apps. If our developers will find way to integrate apps with social networks it will widely expand amount of users. \n",
    "\n",
    "Lets check android data set:"
   ]
  },
  {
   "cell_type": "code",
   "execution_count": 93,
   "metadata": {},
   "outputs": [
    {
     "name": "stdout",
     "output_type": "stream",
     "text": [
      "COMMUNICATION : 38326063\n",
      "VIDEO_PLAYERS : 24790074\n",
      "SOCIAL : 23253652\n",
      "ENTERTAINMENT : 19428913\n",
      "PHOTOGRAPHY : 17805628\n",
      "PRODUCTIVITY : 16772839\n",
      "TRAVEL_AND_LOCAL : 13984078\n",
      "GAME : 13006873\n",
      "TOOLS : 10814477\n",
      "NEWS_AND_MAGAZINES : 9549178\n",
      "BOOKS_AND_REFERENCE : 8767812\n",
      "SHOPPING : 7036877\n",
      "PERSONALIZATION : 5201483\n",
      "WEATHER : 5074486\n",
      "FAMILY : 4374336\n",
      "SPORTS : 4274689\n",
      "HEALTH_AND_FITNESS : 4167457\n",
      "MAPS_AND_NAVIGATION : 4056942\n",
      "EDUCATION : 3057207\n",
      "FOOD_AND_DRINK : 1924898\n",
      "ART_AND_DESIGN : 1905352\n",
      "BUSINESS : 1704192\n",
      "LIFESTYLE : 1437816\n",
      "FINANCE : 1387692\n",
      "HOUSE_AND_HOME : 1313682\n",
      "DATING : 854029\n",
      "COMICS : 817657\n",
      "AUTO_AND_VEHICLES : 647318\n",
      "LIBRARIES_AND_DEMO : 638504\n",
      "PARENTING : 542604\n",
      "BEAUTY : 513152\n",
      "EVENTS : 253542\n",
      "MEDICAL : 107144\n"
     ]
    }
   ],
   "source": [
    "average_users_per_genre(android_final, 1, 5)"
   ]
  },
  {
   "cell_type": "markdown",
   "metadata": {},
   "source": [
    "As we aimed to find apps which will be profitable for both markets I will check app genres which I have suggested for AppStore. \n",
    "* `Photo&Video` - there is category `photography` in android dataset. It might be interesting for our team, cause at the moment huge amount of content generated and if we are able to transfer user from real world to imagery using masks or backgrounds it could be profitable. It is in top 5 of list `average amount of users`, but we will get quite some chalandge with other apps.\n",
    "* `Food&Drinks` - this app genre is not on top in `average amount of users`, but on other hand there is not so much chalanges with other apps.\n",
    "* `Books` - it is on 11th place in list of `average amount of users`, and there is not so much other apps in this genre. It is golden meedle for us and the best option to develop. It could be app which allowes you to read reviews, or app with quest on popular book, or any other fun-app based on popular book."
   ]
  }
 ],
 "metadata": {
  "interpreter": {
   "hash": "b5723633cf3adc57814c786c172258ce3d373f2b12ecb2d781f069018ca9280c"
  },
  "kernelspec": {
   "display_name": "Python 3.10.2 64-bit",
   "language": "python",
   "name": "python3"
  },
  "language_info": {
   "codemirror_mode": {
    "name": "ipython",
    "version": 3
   },
   "file_extension": ".py",
   "mimetype": "text/x-python",
   "name": "python",
   "nbconvert_exporter": "python",
   "pygments_lexer": "ipython3",
   "version": "3.10.2"
  }
 },
 "nbformat": 4,
 "nbformat_minor": 2
}
